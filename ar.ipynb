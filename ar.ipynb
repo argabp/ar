{
 "cells": [
  {
   "cell_type": "code",
   "execution_count": 4,
   "metadata": {
    "scrolled": true
   },
   "outputs": [
    {
     "data": {
      "text/html": [
       "<div>\n",
       "<style scoped>\n",
       "    .dataframe tbody tr th:only-of-type {\n",
       "        vertical-align: middle;\n",
       "    }\n",
       "\n",
       "    .dataframe tbody tr th {\n",
       "        vertical-align: top;\n",
       "    }\n",
       "\n",
       "    .dataframe thead th {\n",
       "        text-align: right;\n",
       "    }\n",
       "</style>\n",
       "<table border=\"1\" class=\"dataframe\">\n",
       "  <thead>\n",
       "    <tr style=\"text-align: right;\">\n",
       "      <th></th>\n",
       "      <th>Year</th>\n",
       "      <th>Yt</th>\n",
       "      <th>Yt-1</th>\n",
       "      <th>Yt-2</th>\n",
       "      <th>Yt-3</th>\n",
       "    </tr>\n",
       "  </thead>\n",
       "  <tbody>\n",
       "    <tr>\n",
       "      <th>8</th>\n",
       "      <td>9</td>\n",
       "      <td>119.0</td>\n",
       "      <td>103.2</td>\n",
       "      <td>94.7</td>\n",
       "      <td>86.2</td>\n",
       "    </tr>\n",
       "    <tr>\n",
       "      <th>7</th>\n",
       "      <td>8</td>\n",
       "      <td>103.2</td>\n",
       "      <td>94.7</td>\n",
       "      <td>86.2</td>\n",
       "      <td>90.4</td>\n",
       "    </tr>\n",
       "    <tr>\n",
       "      <th>6</th>\n",
       "      <td>7</td>\n",
       "      <td>94.7</td>\n",
       "      <td>86.2</td>\n",
       "      <td>90.4</td>\n",
       "      <td>87.2</td>\n",
       "    </tr>\n",
       "    <tr>\n",
       "      <th>12</th>\n",
       "      <td>13</td>\n",
       "      <td>181.0</td>\n",
       "      <td>157.6</td>\n",
       "      <td>131.6</td>\n",
       "      <td>122.4</td>\n",
       "    </tr>\n",
       "    <tr>\n",
       "      <th>14</th>\n",
       "      <td>15</td>\n",
       "      <td>244.1</td>\n",
       "      <td>217.8</td>\n",
       "      <td>181.0</td>\n",
       "      <td>157.6</td>\n",
       "    </tr>\n",
       "  </tbody>\n",
       "</table>\n",
       "</div>"
      ],
      "text/plain": [
       "    Year     Yt   Yt-1   Yt-2   Yt-3\n",
       "8      9  119.0  103.2   94.7   86.2\n",
       "7      8  103.2   94.7   86.2   90.4\n",
       "6      7   94.7   86.2   90.4   87.2\n",
       "12    13  181.0  157.6  131.6  122.4\n",
       "14    15  244.1  217.8  181.0  157.6"
      ]
     },
     "execution_count": 4,
     "metadata": {},
     "output_type": "execute_result"
    }
   ],
   "source": [
    "import numpy as np\n",
    "import pandas as pd\n",
    "from numpy.linalg import inv\n",
    "\n",
    "names = ['Year','Yt','Yt-1','Yt-2','Yt-3']\n",
    "data = pd.read_csv('ar.csv',names=names)\n",
    "data.sample(n=5)"
   ]
  },
  {
   "cell_type": "code",
   "execution_count": 5,
   "metadata": {},
   "outputs": [],
   "source": [
    "Yt = data.loc[:,'Yt']\n",
    "Yt1 = data.loc[:,'Yt-1'].dropna()\n",
    "Yt2 = data.loc[:,'Yt-2'].dropna()\n",
    "Yt3 = data.loc[:,'Yt-3'].dropna()"
   ]
  },
  {
   "cell_type": "code",
   "execution_count": 6,
   "metadata": {},
   "outputs": [],
   "source": [
    "Matriks_1 = pd.DataFrame([1,1,1,1,1,1,1,1,1,1,1,1,1,1,1])"
   ]
  },
  {
   "cell_type": "code",
   "execution_count": 7,
   "metadata": {},
   "outputs": [],
   "source": [
    "Matriks_X = Matriks_1.join(Yt1, lsuffix='_Matriks_1',rsuffix='_Yt1').dropna()"
   ]
  },
  {
   "cell_type": "code",
   "execution_count": 8,
   "metadata": {},
   "outputs": [],
   "source": [
    "Matriks_Y = Yt[1:]"
   ]
  },
  {
   "cell_type": "code",
   "execution_count": 9,
   "metadata": {},
   "outputs": [],
   "source": [
    "Matriks_Xt = pd.DataFrame.transpose(Matriks_X)"
   ]
  },
  {
   "cell_type": "code",
   "execution_count": 10,
   "metadata": {},
   "outputs": [],
   "source": [
    "MXt_MX = pd.DataFrame.dot(Matriks_Xt,Matriks_X)"
   ]
  },
  {
   "cell_type": "code",
   "execution_count": 11,
   "metadata": {},
   "outputs": [],
   "source": [
    "MXt_MY = pd.DataFrame.dot(Matriks_Xt,Matriks_Y)"
   ]
  },
  {
   "cell_type": "code",
   "execution_count": 12,
   "metadata": {},
   "outputs": [],
   "source": [
    "inv_MXt_MX = pd.DataFrame(np.linalg.pinv(MXt_MX.values), MXt_MX.columns, MXt_MX.index)"
   ]
  },
  {
   "cell_type": "code",
   "execution_count": 13,
   "metadata": {},
   "outputs": [],
   "source": [
    "vb = pd.DataFrame.dot(inv_MXt_MX,MXt_MY)"
   ]
  },
  {
   "cell_type": "code",
   "execution_count": 14,
   "metadata": {},
   "outputs": [],
   "source": [
    "ls = []\n",
    "yt = []\n",
    "for x in Yt1:\n",
    "    for y in vb:\n",
    "        if y not in ls:\n",
    "            ls.append(y)\n",
    "    hasil = ls[0] + ls[1] * x\n",
    "    yt.append(hasil)\n",
    "yt = pd.DataFrame(yt)"
   ]
  },
  {
   "cell_type": "code",
   "execution_count": 15,
   "metadata": {},
   "outputs": [],
   "source": [
    "se = []\n",
    "for a,b in zip(yt.values,Matriks_Y.values):\n",
    "    se.append((a-b)**2)\n",
    "se = pd.DataFrame(se)"
   ]
  },
  {
   "cell_type": "code",
   "execution_count": 16,
   "metadata": {},
   "outputs": [],
   "source": [
    "mse = se.mean()"
   ]
  },
  {
   "cell_type": "code",
   "execution_count": 17,
   "metadata": {},
   "outputs": [],
   "source": [
    "rmse = np.sqrt(mse)"
   ]
  },
  {
   "cell_type": "code",
   "execution_count": 20,
   "metadata": {},
   "outputs": [
    {
     "name": "stdout",
     "output_type": "stream",
     "text": [
      "RME: 0    59.216193\n",
      "dtype: float64 \n",
      "RMSE: 0    7.695206\n",
      "dtype: float64\n"
     ]
    }
   ],
   "source": [
    "print('RME:',mse,'\\nRMSE:',rmse)"
   ]
  },
  {
   "cell_type": "code",
   "execution_count": null,
   "metadata": {},
   "outputs": [],
   "source": []
  }
 ],
 "metadata": {
  "kernelspec": {
   "display_name": "Python 3",
   "language": "python",
   "name": "python3"
  },
  "language_info": {
   "codemirror_mode": {
    "name": "ipython",
    "version": 3
   },
   "file_extension": ".py",
   "mimetype": "text/x-python",
   "name": "python",
   "nbconvert_exporter": "python",
   "pygments_lexer": "ipython3",
   "version": "3.6.6"
  }
 },
 "nbformat": 4,
 "nbformat_minor": 2
}
